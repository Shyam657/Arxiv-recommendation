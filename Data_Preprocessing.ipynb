{
  "nbformat": 4,
  "nbformat_minor": 0,
  "metadata": {
    "colab": {
      "provenance": [],
      "mount_file_id": "1fIzEWG5YGUa1voXiPdGbXNlESxzb0Z97",
      "authorship_tag": "ABX9TyM4aLZCXeEzNgnpM+5ZwmXn",
      "include_colab_link": true
    },
    "kernelspec": {
      "name": "python3",
      "display_name": "Python 3"
    },
    "language_info": {
      "name": "python"
    }
  },
  "cells": [
    {
      "cell_type": "markdown",
      "metadata": {
        "id": "view-in-github",
        "colab_type": "text"
      },
      "source": [
        "<a href=\"https://colab.research.google.com/github/Shyam657/Arxiv-recommendation/blob/main/Data_Preprocessing.ipynb\" target=\"_parent\"><img src=\"https://colab.research.google.com/assets/colab-badge.svg\" alt=\"Open In Colab\"/></a>"
      ]
    },
    {
      "cell_type": "code",
      "execution_count": 1,
      "metadata": {
        "id": "nXXetS__DBw9",
        "colab": {
          "base_uri": "https://localhost:8080/"
        },
        "outputId": "c69acb73-b92a-4556-cce5-2cbd67ce8eff"
      },
      "outputs": [
        {
          "output_type": "stream",
          "name": "stdout",
          "text": [
            "Looking in indexes: https://pypi.org/simple, https://us-python.pkg.dev/colab-wheels/public/simple/\n",
            "Requirement already satisfied: kaggle in /usr/local/lib/python3.7/dist-packages (1.5.12)\n",
            "Requirement already satisfied: six>=1.10 in /usr/local/lib/python3.7/dist-packages (from kaggle) (1.15.0)\n",
            "Requirement already satisfied: python-slugify in /usr/local/lib/python3.7/dist-packages (from kaggle) (6.1.2)\n",
            "Requirement already satisfied: urllib3 in /usr/local/lib/python3.7/dist-packages (from kaggle) (1.24.3)\n",
            "Requirement already satisfied: tqdm in /usr/local/lib/python3.7/dist-packages (from kaggle) (4.64.1)\n",
            "Requirement already satisfied: python-dateutil in /usr/local/lib/python3.7/dist-packages (from kaggle) (2.8.2)\n",
            "Requirement already satisfied: requests in /usr/local/lib/python3.7/dist-packages (from kaggle) (2.23.0)\n",
            "Requirement already satisfied: certifi in /usr/local/lib/python3.7/dist-packages (from kaggle) (2022.9.24)\n",
            "Requirement already satisfied: text-unidecode>=1.3 in /usr/local/lib/python3.7/dist-packages (from python-slugify->kaggle) (1.3)\n",
            "Requirement already satisfied: chardet<4,>=3.0.2 in /usr/local/lib/python3.7/dist-packages (from requests->kaggle) (3.0.4)\n",
            "Requirement already satisfied: idna<3,>=2.5 in /usr/local/lib/python3.7/dist-packages (from requests->kaggle) (2.10)\n"
          ]
        }
      ],
      "source": [
        "!pip install kaggle"
      ]
    },
    {
      "cell_type": "code",
      "source": [
        "from google.colab import drive\n",
        "drive.mount('/content/drive')"
      ],
      "metadata": {
        "colab": {
          "base_uri": "https://localhost:8080/"
        },
        "id": "dYbJS55kDGWD",
        "outputId": "0e5f097e-49f6-4d71-bee6-c57c9258739c"
      },
      "execution_count": 2,
      "outputs": [
        {
          "output_type": "stream",
          "name": "stdout",
          "text": [
            "Drive already mounted at /content/drive; to attempt to forcibly remount, call drive.mount(\"/content/drive\", force_remount=True).\n"
          ]
        }
      ]
    },
    {
      "cell_type": "code",
      "source": [
        "!mkdir -p ~/.kaggle\n",
        "#Loading my kaggle credential file from drive and copying it to ./kaggle directory as kaggle expects my kaggle.json file to be there in the next command for downloading dataset from kaggle\n",
        "!cp /content/drive/MyDrive/kaggle.json ~/.kaggle/\n",
        "!chmod 600 ~/.kaggle/kaggle.json"
      ],
      "metadata": {
        "id": "HlrrJkfIDK00"
      },
      "execution_count": 4,
      "outputs": []
    },
    {
      "cell_type": "code",
      "source": [
        "!kaggle datasets download -d Cornell-University/arxiv"
      ],
      "metadata": {
        "colab": {
          "base_uri": "https://localhost:8080/"
        },
        "id": "9kLWWSrzDK24",
        "outputId": "dc460601-899a-4917-c20a-3fc6166297e7"
      },
      "execution_count": 5,
      "outputs": [
        {
          "output_type": "stream",
          "name": "stdout",
          "text": [
            "Downloading arxiv.zip to /content\n",
            "100% 1.10G/1.10G [00:50<00:00, 28.9MB/s]\n",
            "100% 1.10G/1.10G [00:50<00:00, 23.4MB/s]\n"
          ]
        }
      ]
    },
    {
      "cell_type": "markdown",
      "source": [],
      "metadata": {
        "id": "YwU-WIuoDsJR"
      }
    },
    {
      "cell_type": "code",
      "source": [
        "\n",
        "import numpy as np # linear algebra\n",
        "import pandas as pd # for reading CSV file\n"
      ],
      "metadata": {
        "id": "SrZXDUYHDscI"
      },
      "execution_count": 6,
      "outputs": []
    },
    {
      "cell_type": "code",
      "source": [
        "import zipfile\n",
        "zip_ref = zipfile.ZipFile('arxiv.zip', 'r')\n",
        "zip_ref.extractall()\n",
        "zip_ref.close()"
      ],
      "metadata": {
        "id": "3xMAcgx-DK4_"
      },
      "execution_count": 7,
      "outputs": []
    },
    {
      "cell_type": "code",
      "source": [
        "import json\n",
        "\n",
        "data_file = '/content/arxiv-metadata-oai-snapshot.json'\n",
        "\n",
        "def get_metadata():\n",
        "    with open(data_file, 'r') as f:\n",
        "        for line in f:\n",
        "            yield line"
      ],
      "metadata": {
        "id": "CDIul6sfDK--"
      },
      "execution_count": 8,
      "outputs": []
    },
    {
      "cell_type": "code",
      "source": [
        "metadata = get_metadata()\n",
        "for paper in metadata:\n",
        "    paper_dict = json.loads(paper)\n",
        "    print('Title: {}\\n\\nAbstract: {}\\nRef: {}\\ndoi: {}'.format(paper_dict.get('title'), paper_dict.get('abstract'),paper_dict.get('doi'), paper_dict.get('journal-ref')))\n",
        "#     print(paper)\n",
        "    break"
      ],
      "metadata": {
        "colab": {
          "base_uri": "https://localhost:8080/"
        },
        "id": "ZnqYz2hIDLAp",
        "outputId": "e381b31d-09e6-4e1e-a946-77b4c038fd4a"
      },
      "execution_count": 9,
      "outputs": [
        {
          "output_type": "stream",
          "name": "stdout",
          "text": [
            "Title: Calculation of prompt diphoton production cross sections at Tevatron and\n",
            "  LHC energies\n",
            "\n",
            "Abstract:   A fully differential calculation in perturbative quantum chromodynamics is\n",
            "presented for the production of massive photon pairs at hadron colliders. All\n",
            "next-to-leading order perturbative contributions from quark-antiquark,\n",
            "gluon-(anti)quark, and gluon-gluon subprocesses are included, as well as\n",
            "all-orders resummation of initial-state gluon radiation valid at\n",
            "next-to-next-to-leading logarithmic accuracy. The region of phase space is\n",
            "specified in which the calculation is most reliable. Good agreement is\n",
            "demonstrated with data from the Fermilab Tevatron, and predictions are made for\n",
            "more detailed tests with CDF and DO data. Predictions are shown for\n",
            "distributions of diphoton pairs produced at the energy of the Large Hadron\n",
            "Collider (LHC). Distributions of the diphoton pairs from the decay of a Higgs\n",
            "boson are contrasted with those produced from QCD processes at the LHC, showing\n",
            "that enhanced sensitivity to the signal can be obtained with judicious\n",
            "selection of events.\n",
            "\n",
            "Ref: 10.1103/PhysRevD.76.013009\n",
            "doi: Phys.Rev.D76:013009,2007\n"
          ]
        }
      ]
    },
    {
      "cell_type": "code",
      "source": [
        "titles = []\n",
        "abstracts = []\n",
        "years = []\n",
        "doi=[]\n",
        "metadata = get_metadata()\n",
        "for paper in metadata:\n",
        "    paper_dict = json.loads(paper)\n",
        "    ref = paper_dict.get('journal-ref')\n",
        "    try:\n",
        "        year = int(ref[-4:]) \n",
        "        if 2017 < year < 2022:\n",
        "            years.append(year)\n",
        "            titles.append(paper_dict.get('title'))\n",
        "            abstracts.append(paper_dict.get('abstract'))\n",
        "            doi.append(paper_dict.get('doi'))\n",
        "    except:\n",
        "        pass \n",
        "\n",
        "len(titles), len(abstracts), len(years),len(doi)"
      ],
      "metadata": {
        "colab": {
          "base_uri": "https://localhost:8080/"
        },
        "id": "gQHTf88pDLCZ",
        "outputId": "9451a6bf-dc85-4a3c-8789-fd06b3d203f1"
      },
      "execution_count": 10,
      "outputs": [
        {
          "output_type": "execute_result",
          "data": {
            "text/plain": [
              "(21137, 21137, 21137, 21137)"
            ]
          },
          "metadata": {},
          "execution_count": 10
        }
      ]
    },
    {
      "cell_type": "code",
      "source": [
        "papers = pd.DataFrame({\n",
        "    'title': titles,\n",
        "    'abstract': abstracts,\n",
        "    'year': years,\n",
        "    'doi': doi\n",
        "})\n",
        "papers.head()"
      ],
      "metadata": {
        "colab": {
          "base_uri": "https://localhost:8080/",
          "height": 206
        },
        "id": "pTGuwMg4DLGR",
        "outputId": "df98be42-ac5a-45ee-de89-32f400a5149f"
      },
      "execution_count": 11,
      "outputs": [
        {
          "output_type": "execute_result",
          "data": {
            "text/plain": [
              "                                               title  \\\n",
              "0  Regularity of solutions of the isoperimetric p...   \n",
              "1  Teichm\\\"uller Structures and Dual Geometric Gi...   \n",
              "2  Distributional Schwarzschild Geometry from non...   \n",
              "3   Weight Reduction for Mod l Bianchi Modular Forms   \n",
              "4  Nonequilibrium phase transition in a spreading...   \n",
              "\n",
              "                                            abstract  year  \\\n",
              "0    In this work we consider a question in the c...  2018   \n",
              "1    The Gibbs measure theory for smooth potentia...  2020   \n",
              "2    In this paper we leave the neighborhood of t...  2018   \n",
              "3    Let K be an imaginary quadratic field with c...  2019   \n",
              "4    We consider a nonequilibrium process on a ti...  2020   \n",
              "\n",
              "                                doi  \n",
              "0         10.1007/s00574-017-0056-6  \n",
              "1         10.1007/s11425-019-1638-6  \n",
              "2         10.4236/jhepgc.2018.42023  \n",
              "3                              None  \n",
              "4  10.1088/1742-5468/2009/02/P02020  "
            ],
            "text/html": [
              "\n",
              "  <div id=\"df-4b453989-62b1-4617-a354-f32026fda202\">\n",
              "    <div class=\"colab-df-container\">\n",
              "      <div>\n",
              "<style scoped>\n",
              "    .dataframe tbody tr th:only-of-type {\n",
              "        vertical-align: middle;\n",
              "    }\n",
              "\n",
              "    .dataframe tbody tr th {\n",
              "        vertical-align: top;\n",
              "    }\n",
              "\n",
              "    .dataframe thead th {\n",
              "        text-align: right;\n",
              "    }\n",
              "</style>\n",
              "<table border=\"1\" class=\"dataframe\">\n",
              "  <thead>\n",
              "    <tr style=\"text-align: right;\">\n",
              "      <th></th>\n",
              "      <th>title</th>\n",
              "      <th>abstract</th>\n",
              "      <th>year</th>\n",
              "      <th>doi</th>\n",
              "    </tr>\n",
              "  </thead>\n",
              "  <tbody>\n",
              "    <tr>\n",
              "      <th>0</th>\n",
              "      <td>Regularity of solutions of the isoperimetric p...</td>\n",
              "      <td>In this work we consider a question in the c...</td>\n",
              "      <td>2018</td>\n",
              "      <td>10.1007/s00574-017-0056-6</td>\n",
              "    </tr>\n",
              "    <tr>\n",
              "      <th>1</th>\n",
              "      <td>Teichm\\\"uller Structures and Dual Geometric Gi...</td>\n",
              "      <td>The Gibbs measure theory for smooth potentia...</td>\n",
              "      <td>2020</td>\n",
              "      <td>10.1007/s11425-019-1638-6</td>\n",
              "    </tr>\n",
              "    <tr>\n",
              "      <th>2</th>\n",
              "      <td>Distributional Schwarzschild Geometry from non...</td>\n",
              "      <td>In this paper we leave the neighborhood of t...</td>\n",
              "      <td>2018</td>\n",
              "      <td>10.4236/jhepgc.2018.42023</td>\n",
              "    </tr>\n",
              "    <tr>\n",
              "      <th>3</th>\n",
              "      <td>Weight Reduction for Mod l Bianchi Modular Forms</td>\n",
              "      <td>Let K be an imaginary quadratic field with c...</td>\n",
              "      <td>2019</td>\n",
              "      <td>None</td>\n",
              "    </tr>\n",
              "    <tr>\n",
              "      <th>4</th>\n",
              "      <td>Nonequilibrium phase transition in a spreading...</td>\n",
              "      <td>We consider a nonequilibrium process on a ti...</td>\n",
              "      <td>2020</td>\n",
              "      <td>10.1088/1742-5468/2009/02/P02020</td>\n",
              "    </tr>\n",
              "  </tbody>\n",
              "</table>\n",
              "</div>\n",
              "      <button class=\"colab-df-convert\" onclick=\"convertToInteractive('df-4b453989-62b1-4617-a354-f32026fda202')\"\n",
              "              title=\"Convert this dataframe to an interactive table.\"\n",
              "              style=\"display:none;\">\n",
              "        \n",
              "  <svg xmlns=\"http://www.w3.org/2000/svg\" height=\"24px\"viewBox=\"0 0 24 24\"\n",
              "       width=\"24px\">\n",
              "    <path d=\"M0 0h24v24H0V0z\" fill=\"none\"/>\n",
              "    <path d=\"M18.56 5.44l.94 2.06.94-2.06 2.06-.94-2.06-.94-.94-2.06-.94 2.06-2.06.94zm-11 1L8.5 8.5l.94-2.06 2.06-.94-2.06-.94L8.5 2.5l-.94 2.06-2.06.94zm10 10l.94 2.06.94-2.06 2.06-.94-2.06-.94-.94-2.06-.94 2.06-2.06.94z\"/><path d=\"M17.41 7.96l-1.37-1.37c-.4-.4-.92-.59-1.43-.59-.52 0-1.04.2-1.43.59L10.3 9.45l-7.72 7.72c-.78.78-.78 2.05 0 2.83L4 21.41c.39.39.9.59 1.41.59.51 0 1.02-.2 1.41-.59l7.78-7.78 2.81-2.81c.8-.78.8-2.07 0-2.86zM5.41 20L4 18.59l7.72-7.72 1.47 1.35L5.41 20z\"/>\n",
              "  </svg>\n",
              "      </button>\n",
              "      \n",
              "  <style>\n",
              "    .colab-df-container {\n",
              "      display:flex;\n",
              "      flex-wrap:wrap;\n",
              "      gap: 12px;\n",
              "    }\n",
              "\n",
              "    .colab-df-convert {\n",
              "      background-color: #E8F0FE;\n",
              "      border: none;\n",
              "      border-radius: 50%;\n",
              "      cursor: pointer;\n",
              "      display: none;\n",
              "      fill: #1967D2;\n",
              "      height: 32px;\n",
              "      padding: 0 0 0 0;\n",
              "      width: 32px;\n",
              "    }\n",
              "\n",
              "    .colab-df-convert:hover {\n",
              "      background-color: #E2EBFA;\n",
              "      box-shadow: 0px 1px 2px rgba(60, 64, 67, 0.3), 0px 1px 3px 1px rgba(60, 64, 67, 0.15);\n",
              "      fill: #174EA6;\n",
              "    }\n",
              "\n",
              "    [theme=dark] .colab-df-convert {\n",
              "      background-color: #3B4455;\n",
              "      fill: #D2E3FC;\n",
              "    }\n",
              "\n",
              "    [theme=dark] .colab-df-convert:hover {\n",
              "      background-color: #434B5C;\n",
              "      box-shadow: 0px 1px 3px 1px rgba(0, 0, 0, 0.15);\n",
              "      filter: drop-shadow(0px 1px 2px rgba(0, 0, 0, 0.3));\n",
              "      fill: #FFFFFF;\n",
              "    }\n",
              "  </style>\n",
              "\n",
              "      <script>\n",
              "        const buttonEl =\n",
              "          document.querySelector('#df-4b453989-62b1-4617-a354-f32026fda202 button.colab-df-convert');\n",
              "        buttonEl.style.display =\n",
              "          google.colab.kernel.accessAllowed ? 'block' : 'none';\n",
              "\n",
              "        async function convertToInteractive(key) {\n",
              "          const element = document.querySelector('#df-4b453989-62b1-4617-a354-f32026fda202');\n",
              "          const dataTable =\n",
              "            await google.colab.kernel.invokeFunction('convertToInteractive',\n",
              "                                                     [key], {});\n",
              "          if (!dataTable) return;\n",
              "\n",
              "          const docLinkHtml = 'Like what you see? Visit the ' +\n",
              "            '<a target=\"_blank\" href=https://colab.research.google.com/notebooks/data_table.ipynb>data table notebook</a>'\n",
              "            + ' to learn more about interactive tables.';\n",
              "          element.innerHTML = '';\n",
              "          dataTable['output_type'] = 'display_data';\n",
              "          await google.colab.output.renderOutput(dataTable, element);\n",
              "          const docLink = document.createElement('div');\n",
              "          docLink.innerHTML = docLinkHtml;\n",
              "          element.appendChild(docLink);\n",
              "        }\n",
              "      </script>\n",
              "    </div>\n",
              "  </div>\n",
              "  "
            ]
          },
          "metadata": {},
          "execution_count": 11
        }
      ]
    },
    {
      "cell_type": "code",
      "source": [
        "papers.to_csv('papers.csv')"
      ],
      "metadata": {
        "id": "IY2Dbk72w5X2"
      },
      "execution_count": 12,
      "outputs": []
    },
    {
      "cell_type": "code",
      "source": [],
      "metadata": {
        "id": "R0jsY-LSwaTq"
      },
      "execution_count": null,
      "outputs": []
    }
  ]
}